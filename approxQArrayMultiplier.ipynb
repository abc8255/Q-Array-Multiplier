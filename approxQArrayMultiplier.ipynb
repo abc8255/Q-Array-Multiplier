{
 "cells": [
  {
   "cell_type": "code",
   "execution_count": 1,
   "outputs": [],
   "source": [
    "from qiskit import QuantumRegister, QuantumCircuit, ClassicalRegister\n",
    "import numpy as np\n",
    "import matplotlib\n",
    "from math import pi, log2\n",
    "\n",
    "from sharedFunctions import runNoisy, runIdeal, initializeQReg"
   ],
   "metadata": {
    "collapsed": false,
    "ExecuteTime": {
     "end_time": "2024-01-23T15:33:21.207393800Z",
     "start_time": "2024-01-23T15:33:15.099469600Z"
    }
   }
  },
  {
   "cell_type": "code",
   "execution_count": 2,
   "metadata": {
    "ExecuteTime": {
     "end_time": "2024-01-23T15:33:21.238614Z",
     "start_time": "2024-01-23T15:33:21.209625Z"
    }
   },
   "outputs": [],
   "source": [
    "def CCP(qc, theta, A, B, T):\n",
    "    \"\"\"\n",
    "    Multiple controlled phase shift\n",
    "    :param qc: Quantum Circuit\n",
    "    :param theta: phase shift amount\n",
    "    :param A: Control 1\n",
    "    :param B: Control 2\n",
    "    :param T: Target\n",
    "    :return:\n",
    "    \"\"\"\n",
    "    qc.cp(theta, B, T)\n",
    "    qc.cx(A, B)\n",
    "    qc.cp(-theta, B, T)\n",
    "    qc.cx(A, B)\n",
    "    qc.cp(theta, A, T)"
   ]
  },
  {
   "cell_type": "code",
   "execution_count": 3,
   "metadata": {
    "ExecuteTime": {
     "end_time": "2024-01-23T15:33:21.322934800Z",
     "start_time": "2024-01-23T15:33:21.233734700Z"
    }
   },
   "outputs": [],
   "source": [
    "def addMultRow(qc, reg_a, s, reg_b, reg_p, limit):\n",
    "    \"\"\"\n",
    "    Add a quantum register reg_b if reg_aVal is 1, and store the result in reg_p.\n",
    "    :param qc:       quantum circuit that is being operated on\n",
    "    :param reg_a:    the smaller of the two inputs, the multiplicand\n",
    "    :param s:        the current index of register a\n",
    "    :param reg_b:    the larger of the two inputs, the multiplier\n",
    "    :param reg_p:    the qregister holding the resultant product\n",
    "    :param limit: the minimum size that the phase shift can be\n",
    "    \"\"\"\n",
    "    for b in range(0, len(reg_b)):\n",
    "        for j in range(0, len(reg_b) - b):\n",
    "            lam = np.pi / (2 ** (j + 1))\n",
    "            if abs((j + 1)) <= limit:\n",
    "                CCP(qc, lam, reg_a[s], reg_b[b], reg_p[b + j + s])\n",
    "        for i in range(0, len(reg_p) - len(reg_b) - s):\n",
    "            lam = np.pi / (2 ** (b + 2 + i))\n",
    "            if abs((b + 2 + i)) <= limit:\n",
    "                CCP(qc, lam, reg_a[s], reg_b[len(reg_b) - b - 1], reg_p[len(reg_b) + i + s])"
   ]
  },
  {
   "cell_type": "code",
   "outputs": [],
   "source": [
    "def invQFT(qc, reg, limit):\n",
    "    \"\"\"\n",
    "    Performs the inverse quantum Fourier transform on a register reg.\n",
    "    Apply repeated phase rotations with parameters being pi divided by\n",
    "    decreasing powers of two, and then apply a Hadamard gate to the nth qubit\n",
    "    of the register reg.\n",
    "    \"\"\"\n",
    "    for n in range(0, len(reg)):\n",
    "        for j in range(0, n):\n",
    "            qc.cp(-1 * pi / float(2**(n - j)), reg[j], reg[n])\n",
    "        qc.h(reg[n])"
   ],
   "metadata": {
    "collapsed": false,
    "ExecuteTime": {
     "end_time": "2024-01-23T15:33:21.326491500Z",
     "start_time": "2024-01-23T15:33:21.257713600Z"
    }
   },
   "execution_count": 4
  },
  {
   "cell_type": "code",
   "outputs": [],
   "source": [
    "def QFT(qc, reg, limit):\n",
    "    \"\"\"\n",
    "    Computes the quantum Fourier transform of reg, one qubit at\n",
    "    a time.\n",
    "    Apply one Hadamard gate to the nth qubit of the quantum register reg, and\n",
    "    then apply repeated phase rotations with parameters being pi divided by\n",
    "    increasing powers of two.\n",
    "    \"\"\"\n",
    "    for i in range(0, len(reg)):\n",
    "        n = len(reg) - 1 - i\n",
    "        qc.h(reg[n])\n",
    "        for j in range(0, n):\n",
    "            qc.cp(pi / float(2**(j + 1)), reg[n - (j + 1)], reg[n])"
   ],
   "metadata": {
    "collapsed": false,
    "ExecuteTime": {
     "end_time": "2024-01-23T15:33:21.331378100Z",
     "start_time": "2024-01-23T15:33:21.267317600Z"
    }
   },
   "execution_count": 5
  },
  {
   "cell_type": "code",
   "execution_count": 6,
   "outputs": [],
   "source": [
    "def invAQFT(qc, reg, limit):\n",
    "    \"\"\"\n",
    "    Performs the inverse quantum Fourier transform on a register reg.\n",
    "    Apply repeated phase rotations with parameters being pi divided by\n",
    "    decreasing powers of two, and then apply a Hadamard gate to the nth qubit\n",
    "    of the register reg.\n",
    "    \"\"\"\n",
    "    for n in range(0, len(reg)):\n",
    "        for j in range(0, n):\n",
    "            if abs((n - j)) <= limit:\n",
    "                qc.cp(-1 * pi / float(2**(n - j)), reg[j], reg[n])\n",
    "        qc.h(reg[n])"
   ],
   "metadata": {
    "collapsed": false,
    "ExecuteTime": {
     "end_time": "2024-01-23T15:33:21.381320300Z",
     "start_time": "2024-01-23T15:33:21.290419300Z"
    }
   }
  },
  {
   "cell_type": "code",
   "execution_count": 7,
   "metadata": {
    "ExecuteTime": {
     "end_time": "2024-01-23T15:33:21.383772900Z",
     "start_time": "2024-01-23T15:33:21.308272600Z"
    }
   },
   "outputs": [],
   "source": [
    "def AQFT(qc, reg, limit):\n",
    "    \"\"\"\n",
    "    Computes the quantum Fourier transform of reg, one qubit at\n",
    "    a time.\n",
    "    Apply one Hadamard gate to the nth qubit of the quantum register reg, and\n",
    "    then apply repeated phase rotations with parameters being pi divided by\n",
    "    increasing powers of two.\n",
    "    \"\"\"\n",
    "    for i in range(0, len(reg)):\n",
    "        n = len(reg) - 1 - i\n",
    "        qc.h(reg[n])\n",
    "        for j in range(0, n):\n",
    "            if abs((j + 1)) <= limit:\n",
    "                qc.cp(pi / float(2**(j + 1)), reg[n - (j + 1)], reg[n])"
   ]
  },
  {
   "cell_type": "code",
   "execution_count": 8,
   "outputs": [],
   "source": [
    "def createAQAMCircuit(multiplier, multiplicand, limit, readable=False):\n",
    "    \"\"\"\n",
    "    Multiply two numbers using a weighted array structure\n",
    "    :param multiplier: A binary string of the multiplier\n",
    "    :param multiplicand: A binary string of the multiplicand\n",
    "    :param limit: the minimum size that the phase shift can be\n",
    "    :param readable: Whether to include barriers between stages (will increase circuit depth)\n",
    "    :return: a QC built using the two input numbers and their binary lengths\n",
    "    \"\"\"\n",
    "    # Take two numbers as user input in binary form\n",
    "    len1 = len(multiplicand)\n",
    "    len2 = len(multiplier)\n",
    "\n",
    "    if (len1 >= 1) & (len2 >= 1):\n",
    "        qrMultiplicand = QuantumRegister(len1, name=\"Multiplicand\")  # Multiplicand\n",
    "        qrMultiplier = QuantumRegister(len2, name=\"Multiplier\")  # Multiplier\n",
    "        qProduct = QuantumRegister(len1 + len2, name=\"product\")  # holds both the final multiplied result\n",
    "        CarrySum = ClassicalRegister(len1 + len2)  # Classical register to hold the final measured values\n",
    "\n",
    "        qc = QuantumCircuit(qrMultiplicand, qrMultiplier, qProduct, CarrySum, name=\"qc2\")\n",
    "\n",
    "        # Store bit strings in quantum registers\n",
    "        initializeQReg(qc, qrMultiplicand, multiplicand)\n",
    "        initializeQReg(qc, qrMultiplier, multiplier)\n",
    "\n",
    "        if readable: qc.barrier(label=\"Initialized + Start QFT\")\n",
    "\n",
    "        # Compute the Fourier transform of accumulator\n",
    "        QFT(qc, qProduct, limit)\n",
    "\n",
    "        for i in range(0, len(qrMultiplicand)):\n",
    "            if readable: qc.barrier(label=(\"Start of Row \" + str(i)))\n",
    "\n",
    "            addMultRow(qc, qrMultiplicand, i, qrMultiplier, qProduct, limit)\n",
    "\n",
    "        if readable: qc.barrier(label=\"Done Looping\")\n",
    "\n",
    "        # Compute the inverse Fourier transform of accumulator\n",
    "        invQFT(qc, qProduct, limit)\n",
    "\n",
    "        qc.measure(qProduct, CarrySum)\n",
    "\n",
    "        return qc"
   ],
   "metadata": {
    "collapsed": false,
    "ExecuteTime": {
     "end_time": "2024-01-23T15:33:21.428145100Z",
     "start_time": "2024-01-23T15:33:21.328669500Z"
    }
   }
  },
  {
   "cell_type": "code",
   "execution_count": 9,
   "metadata": {
    "ExecuteTime": {
     "end_time": "2024-01-23T15:33:21.431746Z",
     "start_time": "2024-01-23T15:33:21.342008300Z"
    }
   },
   "outputs": [],
   "source": [
    "def squareAQAMMultDepth(num, limit):\n",
    "    \"\"\"\n",
    "    Generates the circuit for a square multiplication and returns the resulting depth\n",
    "\n",
    "    :param num: The number being used as both the multiplier and multiplicand\n",
    "    :param limit: the minimum size that the phase shift can be\n",
    "    :return: The depth of the generated circuit\n",
    "    \"\"\"\n",
    "    qc = createAQAMCircuit(num, num, limit)\n",
    "    depth = qc.decompose().decompose().decompose().depth()\n",
    "    del qc\n",
    "    return depth"
   ]
  },
  {
   "cell_type": "code",
   "execution_count": 10,
   "outputs": [],
   "source": [
    "def identityAQAMMultDepth(num, limit):\n",
    "    \"\"\"\n",
    "    Generates the circuit for an identity multiplication and returns the resulting depth\n",
    "\n",
    "    :param num: The number being used as the multiplicand\n",
    "    :param limit: the minimum size that the phase shift can be\n",
    "    :return: The depth of the generated circuit\n",
    "    \"\"\"\n",
    "    qc = createAQAMCircuit(num, \"1\", limit)\n",
    "    depth = qc.decompose().decompose().decompose().depth()\n",
    "    del qc\n",
    "    return depth"
   ],
   "metadata": {
    "collapsed": false,
    "ExecuteTime": {
     "end_time": "2024-01-23T15:33:21.489166Z",
     "start_time": "2024-01-23T15:33:21.366201100Z"
    }
   }
  },
  {
   "cell_type": "code",
   "execution_count": 11,
   "outputs": [],
   "source": [
    "def getDepths():\n",
    "    \"\"\"\n",
    "    Tests a hardcoded sample of input sizes both for identity multiplication and square multiplication. Uses a limit of Log_2(n) for inputs of size n for approximate QFT operations Prints results to the console.\n",
    "\n",
    "    :return: N/A\n",
    "    \"\"\"\n",
    "    testArray = {\"1\": \"1\", \"2\": \"11\", \"3\": \"111\", \"4\": \"1111\", \"5\": \"11111\", \"6\": \"111111\", \"7\": \"1111111\",\n",
    "                 \"8\": \"11111111\", \"9\": \"111111111\", \"10\": \"1111111111\",\n",
    "                 \"11\": \"11111111111\", \"12\": \"111111111111\"} #, \"13\": \"1111111111111\", \"14\": \"11111111111111\",\n",
    "                 # \"15\": \"111111111111111\", \"16\": \"1111111111111111\", \"17\": \"11111111111111111\",\n",
    "                 # \"18\": \"111111111111111111\", \"19\": \"1111111111111111111\", \"20\": \"11111111111111111111\"}\n",
    "    print(\"____________________________________\")\n",
    "    for num in testArray:\n",
    "        limit = log2(len(testArray[num]))\n",
    "        print(\"Depth for an input of size {}\".format(num))\n",
    "        print(\"Limit for this input size {}\".format(limit))\n",
    "        depth = identityAQAMMultDepth(testArray[num], limit)\n",
    "        print(\"identity: {}\".format(depth))\n",
    "        depth = squareAQAMMultDepth(testArray[num], limit)\n",
    "        print(\"square: {}\".format(depth))\n",
    "        print(\"____________________________________\")"
   ],
   "metadata": {
    "collapsed": false,
    "ExecuteTime": {
     "end_time": "2024-01-23T15:33:21.527782800Z",
     "start_time": "2024-01-23T15:33:21.374358300Z"
    }
   }
  },
  {
   "cell_type": "code",
   "execution_count": 21,
   "outputs": [
    {
     "name": "stdout",
     "output_type": "stream",
     "text": [
      "Counts(noise): {'1110000001': 74, '0110110001': 2, '1011000001': 277, '1101000001': 209, '0111000001': 144, '1111000001': 137, '0110000001': 43, '0110100001': 10, '1010000001': 22, '1110100001': 21, '0110010001': 1, '1010100010': 1, '1101100001': 7, '1010100001': 20, '0101000001': 38, '1100000001': 5, '1110110001': 2, '1010110001': 4, '1100100001': 1, '0101100001': 1, '1011010001': 1, '1001001001': 1, '1100000011': 1, '0010000001': 2}\n"
     ]
    },
    {
     "data": {
      "text/plain": "Result(backend_name=''aer_simulator(fake_manila)', backend_version='1.0.4', qobj_id='', job_id='04159d10-f46d-4310-abea-f6b9d2300ba1', success=True, results=[ExperimentResult(shots=1024, success=True, meas_level=2, data=ExperimentResultData(counts={'0x381': 74, '0x1b1': 2, '0x2c1': 277, '0x341': 209, '0x1c1': 144, '0x3c1': 137, '0x181': 43, '0x1a1': 10, '0x281': 22, '0x3a1': 21, '0x191': 1, '0x2a2': 1, '0x361': 7, '0x2a1': 20, '0x141': 38, '0x301': 5, '0x3b1': 2, '0x2b1': 4, '0x321': 1, '0x161': 1, '0x2d1': 1, '0x249': 1, '0x303': 1, '0x81': 2}), header=QobjExperimentHeader(creg_sizes=[['c9', 10]], global_phase=0.0, memory_slots=10, n_qubits=20, name='qc2', qreg_sizes=[['Multiplicand', 5], ['Multiplier', 5], ['product', 10]], metadata={}), status=DONE, seed_simulator=3985023630, metadata={'batched_shots_optimization': False, 'required_memory_mb': 16, 'method': 'statevector', 'active_input_qubits': [0, 1, 2, 3, 4, 5, 6, 7, 8, 9, 10, 11, 12, 13, 14, 15, 16, 17, 18, 19], 'device': 'CPU', 'remapped_qubits': False, 'num_qubits': 20, 'num_clbits': 10, 'time_taken': 764.7065213, 'input_qubit_map': [[0, 0], [1, 1], [2, 2], [3, 3], [4, 4], [5, 5], [6, 6], [7, 7], [8, 8], [9, 9], [10, 10], [11, 11], [12, 12], [13, 13], [14, 14], [15, 15], [16, 16], [17, 17], [18, 18], [19, 19]], 'max_memory_mb': 16114, 'measure_sampling': False, 'noise': 'kraus', 'parallel_shots': 12, 'parallel_state_update': 1, 'runtime_parameter_bind': False, 'num_bind_params': 1, 'fusion': {'enabled': True, 'cost_factor': 1.8, 'threshold': 14, 'method': 'kraus', 'max_fused_qubits': 2, 'time_taken': 0.0102574, 'parallelization': 1, 'applied': True}}, time_taken=764.7065213)], date=2024-01-23T11:12:02.068059, status=COMPLETED, header=None, metadata={'omp_enabled': True, 'parallel_experiments': 1, 'max_memory_mb': 16114, 'max_gpu_memory_mb': 0, 'time_taken_execute': 764.7306509, 'time_taken_parameter_binding': 0.0001524}, time_taken=764.8002552986145)"
     },
     "execution_count": 21,
     "metadata": {},
     "output_type": "execute_result"
    }
   ],
   "source": [
    "#   ``getDepths()\n",
    "# Test a sample input (3x3)\n",
    "sample = \"11111\"\n",
    "qc = createAQAMCircuit(sample, sample, log2(len(sample))+2, readable=True)\n",
    "#Draw Circuit\n",
    "#qc.draw(output=\"mpl\", style=\"iqp\")\n",
    "# print(qc.decompose().decompose().decompose().depth())\n",
    "runNoisy(qc)"
   ],
   "metadata": {
    "collapsed": false,
    "ExecuteTime": {
     "end_time": "2024-01-23T16:12:02.117387300Z",
     "start_time": "2024-01-23T15:59:17.059122400Z"
    }
   }
  },
  {
   "cell_type": "code",
   "execution_count": 22,
   "outputs": [
    {
     "name": "stdout",
     "output_type": "stream",
     "text": [
      "2.321928094887362\n"
     ]
    }
   ],
   "source": [
    "print(log2(len(sample)))"
   ],
   "metadata": {
    "collapsed": false,
    "ExecuteTime": {
     "end_time": "2024-01-23T16:15:12.163309500Z",
     "start_time": "2024-01-23T16:15:12.111710300Z"
    }
   }
  },
  {
   "cell_type": "code",
   "outputs": [],
   "source": [],
   "metadata": {
    "collapsed": false,
    "ExecuteTime": {
     "end_time": "2024-01-22T16:37:22.671055Z",
     "start_time": "2024-01-22T16:37:22.660883600Z"
    }
   },
   "execution_count": 10
  }
 ],
 "metadata": {
  "kernelspec": {
   "display_name": "Python 3 (ipykernel)",
   "language": "python",
   "name": "python3"
  },
  "language_info": {
   "codemirror_mode": {
    "name": "ipython",
    "version": 3
   },
   "file_extension": ".py",
   "mimetype": "text/x-python",
   "name": "python",
   "nbconvert_exporter": "python",
   "pygments_lexer": "ipython3",
   "version": "3.11.1"
  }
 },
 "nbformat": 4,
 "nbformat_minor": 1
}
