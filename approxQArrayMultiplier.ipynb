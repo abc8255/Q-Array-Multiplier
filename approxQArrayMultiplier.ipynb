{
 "cells": [
  {
   "cell_type": "code",
   "execution_count": 15,
   "outputs": [],
   "source": [
    "from qiskit import QuantumRegister, QuantumCircuit, ClassicalRegister\n",
    "import numpy as np\n",
    "import matplotlib\n",
    "from math import pi, log2, ceil\n",
    "\n",
    "from sharedFunctions import runNoisy, runIdeal, initializeQReg"
   ],
   "metadata": {
    "collapsed": false,
    "ExecuteTime": {
     "end_time": "2024-01-23T16:54:56.337176900Z",
     "start_time": "2024-01-23T16:54:56.329512Z"
    }
   }
  },
  {
   "cell_type": "code",
   "execution_count": 2,
   "metadata": {
    "ExecuteTime": {
     "end_time": "2024-01-23T16:40:30.986145600Z",
     "start_time": "2024-01-23T16:40:30.960368800Z"
    }
   },
   "outputs": [],
   "source": [
    "def CCP(qc, theta, A, B, T):\n",
    "    \"\"\"\n",
    "    Multiple controlled phase shift\n",
    "    :param qc: Quantum Circuit\n",
    "    :param theta: phase shift amount\n",
    "    :param A: Control 1\n",
    "    :param B: Control 2\n",
    "    :param T: Target\n",
    "    :return:\n",
    "    \"\"\"\n",
    "    qc.cp(theta, B, T)\n",
    "    qc.cx(A, B)\n",
    "    qc.cp(-theta, B, T)\n",
    "    qc.cx(A, B)\n",
    "    qc.cp(theta, A, T)"
   ]
  },
  {
   "cell_type": "code",
   "execution_count": 3,
   "metadata": {
    "ExecuteTime": {
     "end_time": "2024-01-23T16:40:30.992132500Z",
     "start_time": "2024-01-23T16:40:30.971490600Z"
    }
   },
   "outputs": [],
   "source": [
    "def addMultRow(qc, reg_a, s, reg_b, reg_p, limit):\n",
    "    \"\"\"\n",
    "    Add a quantum register reg_b if reg_aVal is 1, and store the result in reg_p.\n",
    "    :param qc:       quantum circuit that is being operated on\n",
    "    :param reg_a:    the smaller of the two inputs, the multiplicand\n",
    "    :param s:        the current index of register a\n",
    "    :param reg_b:    the larger of the two inputs, the multiplier\n",
    "    :param reg_p:    the qregister holding the resultant product\n",
    "    :param limit: the minimum size that the phase shift can be\n",
    "    \"\"\"\n",
    "    for b in range(0, len(reg_b)):\n",
    "        for j in range(0, len(reg_b) - b):\n",
    "            lam = np.pi / (2 ** (j + 1))\n",
    "            if abs((j + 1)) <= limit:\n",
    "                CCP(qc, lam, reg_a[s], reg_b[b], reg_p[b + j + s])\n",
    "        for i in range(0, len(reg_p) - len(reg_b) - s):\n",
    "            lam = np.pi / (2 ** (b + 2 + i))\n",
    "            if abs((b + 2 + i)) <= limit:\n",
    "                CCP(qc, lam, reg_a[s], reg_b[len(reg_b) - b - 1], reg_p[len(reg_b) + i + s])"
   ]
  },
  {
   "cell_type": "code",
   "outputs": [],
   "source": [
    "def invQFT(qc, reg, limit):\n",
    "    \"\"\"\n",
    "    Performs the inverse quantum Fourier transform on a register reg.\n",
    "    Apply repeated phase rotations with parameters being pi divided by\n",
    "    decreasing powers of two, and then apply a Hadamard gate to the nth qubit\n",
    "    of the register reg.\n",
    "    \"\"\"\n",
    "    for n in range(0, len(reg)):\n",
    "        for j in range(0, n):\n",
    "            qc.cp(-1 * pi / float(2**(n - j)), reg[j], reg[n])\n",
    "        qc.h(reg[n])"
   ],
   "metadata": {
    "collapsed": false,
    "ExecuteTime": {
     "end_time": "2024-01-23T16:40:31.028383400Z",
     "start_time": "2024-01-23T16:40:30.984946300Z"
    }
   },
   "execution_count": 4
  },
  {
   "cell_type": "code",
   "outputs": [],
   "source": [
    "def QFT(qc, reg, limit):\n",
    "    \"\"\"\n",
    "    Computes the quantum Fourier transform of reg, one qubit at\n",
    "    a time.\n",
    "    Apply one Hadamard gate to the nth qubit of the quantum register reg, and\n",
    "    then apply repeated phase rotations with parameters being pi divided by\n",
    "    increasing powers of two.\n",
    "    \"\"\"\n",
    "    for i in range(0, len(reg)):\n",
    "        n = len(reg) - 1 - i\n",
    "        qc.h(reg[n])\n",
    "        for j in range(0, n):\n",
    "            qc.cp(pi / float(2**(j + 1)), reg[n - (j + 1)], reg[n])"
   ],
   "metadata": {
    "collapsed": false,
    "ExecuteTime": {
     "end_time": "2024-01-23T16:40:31.035330500Z",
     "start_time": "2024-01-23T16:40:30.991135600Z"
    }
   },
   "execution_count": 5
  },
  {
   "cell_type": "code",
   "execution_count": 6,
   "outputs": [],
   "source": [
    "def invAQFT(qc, reg, limit):\n",
    "    \"\"\"\n",
    "    Performs the inverse quantum Fourier transform on a register reg.\n",
    "    Apply repeated phase rotations with parameters being pi divided by\n",
    "    decreasing powers of two, and then apply a Hadamard gate to the nth qubit\n",
    "    of the register reg.\n",
    "    \"\"\"\n",
    "    for n in range(0, len(reg)):\n",
    "        for j in range(0, n):\n",
    "            if abs((n - j)) <= limit:\n",
    "                qc.cp(-1 * pi / float(2**(n - j)), reg[j], reg[n])\n",
    "        qc.h(reg[n])"
   ],
   "metadata": {
    "collapsed": false,
    "ExecuteTime": {
     "end_time": "2024-01-23T16:40:31.059618900Z",
     "start_time": "2024-01-23T16:40:30.999090500Z"
    }
   }
  },
  {
   "cell_type": "code",
   "execution_count": 7,
   "metadata": {
    "ExecuteTime": {
     "end_time": "2024-01-23T16:40:31.064605500Z",
     "start_time": "2024-01-23T16:40:31.008631600Z"
    }
   },
   "outputs": [],
   "source": [
    "def AQFT(qc, reg, limit):\n",
    "    \"\"\"\n",
    "    Computes the quantum Fourier transform of reg, one qubit at\n",
    "    a time.\n",
    "    Apply one Hadamard gate to the nth qubit of the quantum register reg, and\n",
    "    then apply repeated phase rotations with parameters being pi divided by\n",
    "    increasing powers of two.\n",
    "    \"\"\"\n",
    "    for i in range(0, len(reg)):\n",
    "        n = len(reg) - 1 - i\n",
    "        qc.h(reg[n])\n",
    "        for j in range(0, n):\n",
    "            if abs((j + 1)) <= limit:\n",
    "                qc.cp(pi / float(2**(j + 1)), reg[n - (j + 1)], reg[n])"
   ]
  },
  {
   "cell_type": "code",
   "execution_count": 21,
   "outputs": [],
   "source": [
    "def createAQAMCircuit(multiplier, multiplicand, limit, readable=False):\n",
    "    \"\"\"\n",
    "    Multiply two numbers using a weighted array structure\n",
    "    :param multiplier: A binary string of the multiplier\n",
    "    :param multiplicand: A binary string of the multiplicand\n",
    "    :param limit: the minimum size that the phase shift can be\n",
    "    :param readable: Whether to include barriers between stages (will increase circuit depth)\n",
    "    :return: a QC built using the two input numbers and their binary lengths\n",
    "    \"\"\"\n",
    "    # Take two numbers as user input in binary form\n",
    "    len1 = len(multiplicand)\n",
    "    len2 = len(multiplier)\n",
    "\n",
    "    if (len1 >= 1) & (len2 >= 1):\n",
    "        qrMultiplicand = QuantumRegister(len1, name=\"Multiplicand\")  # Multiplicand\n",
    "        qrMultiplier = QuantumRegister(len2, name=\"Multiplier\")  # Multiplier\n",
    "        qProduct = QuantumRegister(len1 + len2, name=\"product\")  # holds both the final multiplied result\n",
    "        CarrySum = ClassicalRegister(len1 + len2)  # Classical register to hold the final measured values\n",
    "\n",
    "        qc = QuantumCircuit(qrMultiplicand, qrMultiplier, qProduct, CarrySum, name=\"qc2\")\n",
    "\n",
    "        # Store bit strings in quantum registers\n",
    "        initializeQReg(qc, qrMultiplicand, multiplicand)\n",
    "        initializeQReg(qc, qrMultiplier, multiplier)\n",
    "\n",
    "        if readable: qc.barrier(label=\"Initialized + Start QFT\")\n",
    "\n",
    "        # Compute the Fourier transform of accumulator\n",
    "        AQFT(qc, qProduct, limit)\n",
    "\n",
    "        for i in range(0, len(qrMultiplicand)):\n",
    "            if readable: qc.barrier(label=(\"Start of Row \" + str(i)))\n",
    "\n",
    "            addMultRow(qc, qrMultiplicand, i, qrMultiplier, qProduct, limit)\n",
    "\n",
    "        if readable: qc.barrier(label=\"Done Looping\")\n",
    "\n",
    "        # Compute the inverse Fourier transform of accumulator\n",
    "        invAQFT(qc, qProduct, limit)\n",
    "\n",
    "        qc.measure(qProduct, CarrySum)\n",
    "\n",
    "        return qc"
   ],
   "metadata": {
    "collapsed": false,
    "ExecuteTime": {
     "end_time": "2024-01-23T18:25:43.314772400Z",
     "start_time": "2024-01-23T18:25:43.298805Z"
    }
   }
  },
  {
   "cell_type": "code",
   "execution_count": 30,
   "metadata": {
    "ExecuteTime": {
     "end_time": "2024-01-23T18:46:42.057338100Z",
     "start_time": "2024-01-23T18:46:42.029942700Z"
    }
   },
   "outputs": [],
   "source": [
    "def squareAQAMMultDepth(num, limit):\n",
    "    \"\"\"\n",
    "    Generates the circuit for a square multiplication and returns the resulting depth\n",
    "\n",
    "    :param num: The number being used as both the multiplier and multiplicand\n",
    "    :param limit: the minimum size that the phase shift can be\n",
    "    :return: The depth of the generated circuit\n",
    "    \"\"\"\n",
    "    qc = createAQAMCircuit(num, num, limit)\n",
    "    depth = qc.decompose().decompose().decompose().depth()\n",
    "    ideal = runIdeal(qc)\n",
    "    noisy = runNoisy(qc)\n",
    "    del qc\n",
    "    return depth"
   ]
  },
  {
   "cell_type": "code",
   "execution_count": 31,
   "outputs": [],
   "source": [
    "def identityAQAMMultDepth(num, limit):\n",
    "    \"\"\"\n",
    "    Generates the circuit for an identity multiplication and returns the resulting depth\n",
    "\n",
    "    :param num: The number being used as the multiplicand\n",
    "    :param limit: the minimum size that the phase shift can be\n",
    "    :return: The depth of the generated circuit\n",
    "    \"\"\"\n",
    "    qc = createAQAMCircuit(num, \"1\", limit)\n",
    "    depth = qc.decompose().decompose().decompose().depth()\n",
    "    ideal = runIdeal(qc)\n",
    "    noisy = runNoisy(qc)\n",
    "    del qc\n",
    "    return depth"
   ],
   "metadata": {
    "collapsed": false,
    "ExecuteTime": {
     "end_time": "2024-01-23T18:46:42.567872200Z",
     "start_time": "2024-01-23T18:46:42.563610200Z"
    }
   }
  },
  {
   "cell_type": "code",
   "execution_count": 38,
   "outputs": [],
   "source": [
    "def getDepths():\n",
    "    \"\"\"\n",
    "    Tests a hardcoded sample of input sizes both for identity multiplication and square multiplication. Uses a limit of Log_2(n) for inputs of size n for approximate QFT operations Prints results to the console.\n",
    "\n",
    "    :return: N/A\n",
    "    \"\"\"\n",
    "    testArray = {\"1\": \"1\", \"2\": \"11\", \"3\": \"111\", \"4\": \"1111\", \"5\": \"11111\", \"6\": \"111111\"\n",
    "                 #, \"7\": \"1111111\",\n",
    "                 #\"8\": \"11111111\", \"9\": \"111111111\", \"10\": \"1111111111\",\n",
    "                 #\"11\": \"11111111111\", \"12\": \"111111111111\"} #, \"13\": \"1111111111111\", \"14\": \"11111111111111\",\n",
    "                 # \"15\": \"111111111111111\", \"16\": \"1111111111111111\", \"17\": \"11111111111111111\",\n",
    "                 # \"18\": \"111111111111111111\", \"19\": \"1111111111111111111\", \"20\": \"11111111111111111111\"\n",
    "                 }\n",
    "    print(\"____________________________________\")\n",
    "    for num in testArray:\n",
    "        limit = ceil(log2(len(testArray[num]))+2)\n",
    "        print(\"Depth for an input of size {}\".format(num))\n",
    "        print(\"Limit for this input size {}\".format(limit))\n",
    "        depth = identityAQAMMultDepth(testArray[num], limit)\n",
    "        print(\"identity depth: {}\".format(depth))\n",
    "        # print(\"identity ideal: \", ideal)\n",
    "        # print(\"identity noisy: \", noisy)\n",
    "        print(\"_____________\")\n",
    "        depth = squareAQAMMultDepth(testArray[num], limit)\n",
    "        print(\"square depth: {}\".format(depth))\n",
    "        # print(\"square ideal: \", ideal)\n",
    "        # print(\"square noisy: \", noisy)\n",
    "        print(\"____________________________________\")"
   ],
   "metadata": {
    "collapsed": false,
    "ExecuteTime": {
     "end_time": "2024-01-23T18:48:11.534793300Z",
     "start_time": "2024-01-23T18:48:11.513856400Z"
    }
   }
  },
  {
   "cell_type": "code",
   "execution_count": null,
   "outputs": [
    {
     "name": "stdout",
     "output_type": "stream",
     "text": [
      "____________________________________\n",
      "Depth for an input of size 1\n",
      "Limit for this input size 2\n",
      "Counts(ideal): {'01': 1024}\n",
      "Counts(noise): {'01': 963, '00': 34, '11': 24, '10': 3}\n",
      "identity depth: 35\n",
      "_____________\n",
      "Counts(ideal): {'01': 1024}\n",
      "Counts(noise): {'01': 961, '00': 41, '11': 22}\n",
      "square depth: 35\n",
      "____________________________________\n",
      "Depth for an input of size 2\n",
      "Limit for this input size 3\n",
      "Counts(ideal): {'011': 1024}\n",
      "Counts(noise): {'011': 964, '000': 10, '010': 22, '001': 25, '101': 1, '111': 2}\n",
      "identity depth: 77\n",
      "_____________\n",
      "Counts(ideal): {'0001': 46, '1001': 978}\n",
      "Counts(noise): {'0001': 40, '1001': 942, '1000': 15, '0011': 7, '0101': 17, '0110': 1, '1101': 2}\n",
      "square depth: 149\n",
      "____________________________________\n",
      "Depth for an input of size 3\n",
      "Limit for this input size 4\n",
      "Counts(ideal): {'0111': 1024}\n",
      "Counts(noise): {'0111': 982, '1111': 3, '0110': 23, '0001': 8, '0101': 2, '0011': 1, '0000': 4, '1011': 1}\n",
      "identity depth: 129\n",
      "_____________\n",
      "Counts(ideal): {'110001': 985, '010001': 32, '100001': 6, '000001': 1}\n",
      "Counts(noise): {'111001': 1, '110001': 969, '011001': 2, '010001': 35, '000001': 2, '101010': 1, '100001': 7, '010101': 5, '101001': 1, '110101': 1}\n",
      "square depth: 379\n",
      "____________________________________\n",
      "Depth for an input of size 4\n",
      "Limit for this input size 4\n",
      "Counts(ideal): {'01111': 1018, '11111': 6}\n",
      "Counts(noise): {'01111': 986, '00001': 17, '00111': 1, '11111': 12, '10001': 1, '00000': 4, '11101': 2, '01011': 1}\n",
      "identity depth: 185\n",
      "_____________\n",
      "Counts(ideal): {'01100001': 260, '11100001': 558, '00100001': 8, '00000001': 3, '11000001': 35, '10100001': 151, '01000001': 1, '11010001': 4, '10110001': 1, '10000001': 3}\n",
      "Counts(noise): {'10100001': 117, '01100001': 252, '11101001': 1, '11100001': 571, '00101001': 3, '10000001': 4, '01110001': 7, '01010010': 2, '11000001': 30, '11110001': 6, '01101001': 7, '00100001': 3, '11010001': 9, '00110001': 5, '01010001': 4, '11000011': 1, '00000001': 2}\n",
      "square depth: 635\n",
      "____________________________________\n",
      "Depth for an input of size 5\n",
      "Limit for this input size 5\n",
      "Counts(ideal): {'011111': 1024}\n",
      "Counts(noise): {'011111': 992, '111111': 7, '000001': 17, '000000': 4, '011101': 3, '010111': 1}\n",
      "identity depth: 257\n",
      "_____________\n",
      "Counts(ideal): {'1111000001': 768, '1001000001': 4, '0001000001': 3, '1101000001': 26, '1011000001': 69, '0011000001': 12, '0111000001': 129, '1110000001': 7, '1111100001': 3, '0000000001': 1, '0110100001': 1, '1000000001': 1}\n",
      "Counts(noise): {'1111000001': 736, '1001000001': 4, '0111000001': 130, '1110100010': 2, '0011000001': 13, '1101000001': 38, '1011000001': 81, '1110000011': 2, '1110100001': 4, '1100000001': 2, '1011001001': 1, '0001000001': 4, '1110000001': 3, '0000000001': 2, '1111100001': 1, '0010100010': 1}\n",
      "square depth: 1149\n",
      "____________________________________\n",
      "Depth for an input of size 6\n",
      "Limit for this input size 5\n",
      "Counts(ideal): {'0111111': 1021, '1111111': 2, '1011111': 1}\n",
      "Counts(noise): {'0000001': 17, '0111111': 999, '0001101': 1, '0000000': 2, '0111001': 1, '1111111': 2, '1011111': 1, '0111101': 1}\n",
      "identity depth: 323\n",
      "_____________\n"
     ]
    }
   ],
   "source": [
    "getDepths()\n",
    "# Test a sample input (3x3)\n",
    "# sample = \"11111\"\n",
    "# qc = createAQAMCircuit(sample, sample, ceil(log2(len(sample))+2), readable=True)\n",
    "# #Draw Circuit\n",
    "# #qc.draw(output=\"mpl\", style=\"iqp\")\n",
    "# print(qc.decompose().decompose().decompose().depth())\n",
    "# runNoisy(qc)"
   ],
   "metadata": {
    "collapsed": false,
    "is_executing": true,
    "ExecuteTime": {
     "start_time": "2024-01-23T18:48:13.611383600Z"
    }
   }
  },
  {
   "cell_type": "code",
   "execution_count": 13,
   "outputs": [
    {
     "name": "stdout",
     "output_type": "stream",
     "text": [
      "2.321928094887362\n"
     ]
    }
   ],
   "source": [
    "# print(log2(len(sample)))"
   ],
   "metadata": {
    "collapsed": false,
    "ExecuteTime": {
     "end_time": "2024-01-23T16:51:56.295591300Z",
     "start_time": "2024-01-23T16:51:35.280153100Z"
    }
   }
  },
  {
   "cell_type": "code",
   "outputs": [],
   "source": [],
   "metadata": {
    "collapsed": false,
    "ExecuteTime": {
     "end_time": "2024-01-23T16:51:56.295591300Z",
     "start_time": "2024-01-23T16:51:35.283843Z"
    }
   },
   "execution_count": 13
  }
 ],
 "metadata": {
  "kernelspec": {
   "display_name": "Python 3 (ipykernel)",
   "language": "python",
   "name": "python3"
  },
  "language_info": {
   "codemirror_mode": {
    "name": "ipython",
    "version": 3
   },
   "file_extension": ".py",
   "mimetype": "text/x-python",
   "name": "python",
   "nbconvert_exporter": "python",
   "pygments_lexer": "ipython3",
   "version": "3.11.1"
  }
 },
 "nbformat": 4,
 "nbformat_minor": 1
}
