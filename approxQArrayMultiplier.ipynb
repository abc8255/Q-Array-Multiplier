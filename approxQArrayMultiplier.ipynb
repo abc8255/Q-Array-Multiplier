{
 "cells": [
  {
   "cell_type": "code",
   "execution_count": 12,
   "outputs": [],
   "source": [
    "from qiskit import QuantumRegister, QuantumCircuit, ClassicalRegister\n",
    "import numpy as np\n",
    "from math import pi\n",
    "\n",
    "from sharedFunctions import runNoisy, runIdeal, initializeQReg"
   ],
   "metadata": {
    "collapsed": false,
    "ExecuteTime": {
     "end_time": "2023-11-13T00:46:37.032425200Z",
     "start_time": "2023-11-13T00:46:37.001010400Z"
    }
   }
  },
  {
   "cell_type": "code",
   "execution_count": 13,
   "metadata": {
    "ExecuteTime": {
     "end_time": "2023-11-13T00:46:42.196192700Z",
     "start_time": "2023-11-13T00:46:42.189107200Z"
    }
   },
   "outputs": [],
   "source": [
    "def CCP(qc, theta, A, B, T):\n",
    "    \"\"\"\n",
    "    Multiple controlled phase shift\n",
    "    :param qc: Quantum Circuit\n",
    "    :param theta: phase shift amount\n",
    "    :param A: Control 1\n",
    "    :param B: Control 2\n",
    "    :param T: Target\n",
    "    :return:\n",
    "    \"\"\"\n",
    "    qc.cp(theta, B, T)\n",
    "    qc.cx(A, B)\n",
    "    qc.cp(-theta, B, T)\n",
    "    qc.cx(A, B)\n",
    "    qc.cp(theta, A, T)"
   ]
  },
  {
   "cell_type": "code",
   "execution_count": 54,
   "metadata": {
    "ExecuteTime": {
     "end_time": "2023-11-13T01:14:22.694613100Z",
     "start_time": "2023-11-13T01:14:22.661728800Z"
    }
   },
   "outputs": [],
   "source": [
    "def addMultRow(qc, reg_a, s, reg_b, reg_p, limit):\n",
    "    \"\"\"\n",
    "    Add a quantum register reg_b if reg_aVal is 1, and store the result in reg_p.\n",
    "    :param qc:       quantum circuit that is being operated on\n",
    "    :param reg_a:    the smaller of the two inputs, the multiplicand\n",
    "    :param s:        the current index of register a\n",
    "    :param reg_b:    the larger of the two inputs, the multiplier\n",
    "    :param reg_p:    the qregister holding the resultant product\n",
    "    :param limit: the minimum size that the phase shift can be\n",
    "    \"\"\"\n",
    "    for b in range(0, len(reg_b)):\n",
    "        for j in range(0, len(reg_b) - b):\n",
    "            lam = np.pi / (2 ** (j + 1))\n",
    "            if abs(lam) >= limit:\n",
    "                CCP(qc, lam, reg_a[s], reg_b[b], reg_p[b + j + s])\n",
    "        for i in range(0, len(reg_p) - len(reg_b) - s):\n",
    "            lam = np.pi / (2 ** (b + 2 + i))\n",
    "            if abs(lam) >= limit:\n",
    "                CCP(qc, lam, reg_a[s], reg_b[len(reg_b) - b - 1], reg_p[len(reg_b) + i + s])"
   ]
  },
  {
   "cell_type": "code",
   "execution_count": 55,
   "outputs": [],
   "source": [
    "def invQFT(qc, reg):\n",
    "    \"\"\"\n",
    "    Performs the inverse quantum Fourier transform on a register reg.\n",
    "    Apply repeated phase rotations with parameters being pi divided by\n",
    "    decreasing powers of two, and then apply a Hadamard gate to the nth qubit\n",
    "    of the register reg.\n",
    "    \"\"\"\n",
    "    for n in range(0, len(reg)):\n",
    "        for j in range(0, n):\n",
    "            qc.cp(-1 * pi / float(2**(n - j)), reg[j], reg[n])\n",
    "        qc.h(reg[n])"
   ],
   "metadata": {
    "collapsed": false,
    "ExecuteTime": {
     "end_time": "2023-11-13T01:14:23.144402900Z",
     "start_time": "2023-11-13T01:14:23.129408700Z"
    }
   }
  },
  {
   "cell_type": "code",
   "execution_count": 56,
   "metadata": {
    "ExecuteTime": {
     "end_time": "2023-11-13T01:14:23.159362500Z",
     "start_time": "2023-11-13T01:14:23.145400600Z"
    }
   },
   "outputs": [],
   "source": [
    "def QFT(qc, reg):\n",
    "    \"\"\"\n",
    "    Computes the quantum Fourier transform of reg, one qubit at\n",
    "    a time.\n",
    "    Apply one Hadamard gate to the nth qubit of the quantum register reg, and\n",
    "    then apply repeated phase rotations with parameters being pi divided by\n",
    "    increasing powers of two.\n",
    "    \"\"\"\n",
    "    for i in range(0, len(reg)):\n",
    "        n = len(reg) - 1 - i\n",
    "        qc.h(reg[n])\n",
    "        for j in range(0, n):\n",
    "            qc.cp(pi / float(2**(j + 1)), reg[n - (j + 1)], reg[n])"
   ]
  },
  {
   "cell_type": "code",
   "execution_count": 57,
   "outputs": [],
   "source": [
    "def createAQAMCircuit(multiplier, multiplicand, limit, readable=False):\n",
    "    \"\"\"\n",
    "    Multiply two numbers using a weighted array structure\n",
    "    :param multiplier: A binary string of the multiplier\n",
    "    :param multiplicand: A binary string of the multiplicand\n",
    "    :param limit: the minimum size that the phase shift can be\n",
    "    :param readable: Whether to include barriers between stages (will increase circuit depth)\n",
    "    :return: a QC built using the two input numbers and their binary lengths\n",
    "    \"\"\"\n",
    "    # Take two numbers as user input in binary form\n",
    "    len1 = len(multiplicand)\n",
    "    len2 = len(multiplier)\n",
    "\n",
    "    if (len1 >= 1) & (len2 >= 1):\n",
    "        qrMultiplicand = QuantumRegister(len1, name=\"Multiplicand\")  # Multiplicand\n",
    "        qrMultiplier = QuantumRegister(len2, name=\"Multiplier\")  # Multiplier\n",
    "        qProduct = QuantumRegister(len1 + len2, name=\"product\")  # holds both the final multiplied result\n",
    "        CarrySum = ClassicalRegister(len1 + len2)  # Classical register to hold the final measured values\n",
    "\n",
    "        qc = QuantumCircuit(qrMultiplicand, qrMultiplier, qProduct, CarrySum, name=\"qc2\")\n",
    "\n",
    "        # Store bit strings in quantum registers\n",
    "        initializeQReg(qc, qrMultiplicand, multiplicand)\n",
    "        initializeQReg(qc, qrMultiplier, multiplier)\n",
    "\n",
    "        if readable: qc.barrier(label=\"Initialized + Start QFT\")\n",
    "\n",
    "        # Compute the Fourier transform of accumulator\n",
    "        QFT(qc, qProduct)\n",
    "\n",
    "        for i in range(0, len(qrMultiplicand)):\n",
    "            if readable: qc.barrier(label=(\"Start of Row \" + str(i)))\n",
    "\n",
    "            addMultRow(qc, qrMultiplicand, i, qrMultiplier, qProduct, limit)\n",
    "\n",
    "        if readable: qc.barrier(label=\"Done Looping\")\n",
    "\n",
    "        # Compute the inverse Fourier transform of accumulator\n",
    "        invQFT(qc, qProduct)\n",
    "\n",
    "        qc.measure(qProduct, CarrySum)\n",
    "\n",
    "        return qc"
   ],
   "metadata": {
    "collapsed": false,
    "ExecuteTime": {
     "end_time": "2023-11-13T01:14:23.456080800Z",
     "start_time": "2023-11-13T01:14:23.446323700Z"
    }
   }
  },
  {
   "cell_type": "code",
   "execution_count": 58,
   "metadata": {
    "ExecuteTime": {
     "end_time": "2023-11-13T01:14:23.929715Z",
     "start_time": "2023-11-13T01:14:23.914942100Z"
    }
   },
   "outputs": [],
   "source": [
    "def squareAQAMMultDepth(num, limit):\n",
    "    \"\"\"\n",
    "    Generates the circuit for a square multiplication and returns the resulting depth\n",
    "\n",
    "    :param num: The number being used as both the multiplier and multiplicand\n",
    "    :param limit: the minimum size that the phase shift can be\n",
    "    :return: The depth of the generated circuit\n",
    "    \"\"\"\n",
    "    qc = createAQAMCircuit(num, num, limit)\n",
    "    depth = qc.decompose().decompose().decompose().depth()\n",
    "    del qc\n",
    "    return depth"
   ]
  },
  {
   "cell_type": "code",
   "execution_count": 59,
   "outputs": [],
   "source": [
    "def identityAQAMMultDepth(num, limit):\n",
    "    \"\"\"\n",
    "    Generates the circuit for an identity multiplication and returns the resulting depth\n",
    "\n",
    "    :param num: The number being used as the multiplicand\n",
    "    :param limit: the minimum size that the phase shift can be\n",
    "    :return: The depth of the generated circuit\n",
    "    \"\"\"\n",
    "    qc = createAQAMCircuit(num, \"1\", limit)\n",
    "    depth = qc.decompose().decompose().decompose().depth()\n",
    "    del qc\n",
    "    return depth"
   ],
   "metadata": {
    "collapsed": false,
    "ExecuteTime": {
     "end_time": "2023-11-13T01:14:24.803707100Z",
     "start_time": "2023-11-13T01:14:24.796725800Z"
    }
   }
  },
  {
   "cell_type": "code",
   "execution_count": 60,
   "outputs": [],
   "source": [
    "def getDepths(limit):\n",
    "    \"\"\"\n",
    "    Tests a hardcoded sample of input sizes both for identity multiplication and square multiplication. Prints\n",
    "    results to the console\n",
    "\n",
    "    :param limit: the minimum size that the phase shift can be\n",
    "    :return: N/A\n",
    "    \"\"\"\n",
    "    testArray = {\"1\": \"1\", \"2\": \"11\", \"3\": \"111\", \"4\": \"1111\", \"5\": \"11111\", \"6\": \"111111\", \"7\": \"1111111\",\n",
    "                 \"8\": \"11111111\", \"9\": \"111111111\", \"10\": \"1111111111\",\n",
    "                 \"11\": \"11111111111\", \"12\": \"111111111111\"} #, \"13\": \"1111111111111\", \"14\": \"11111111111111\",\n",
    "                 # \"15\": \"111111111111111\", \"16\": \"1111111111111111\", \"17\": \"11111111111111111\",\n",
    "                 # \"18\": \"111111111111111111\", \"19\": \"1111111111111111111\", \"20\": \"11111111111111111111\"}\n",
    "    print(\"____________________________________\")\n",
    "    for num in testArray:\n",
    "        print(\"Depth for an input of size {}\".format(num))\n",
    "        depth = identityAQAMMultDepth(testArray[num], limit)\n",
    "        print(\"identity: {}\".format(depth))\n",
    "        depth = squareAQAMMultDepth(testArray[num], limit)\n",
    "        print(\"square: {}\".format(depth))\n",
    "        print(\"____________________________________\")"
   ],
   "metadata": {
    "collapsed": false,
    "ExecuteTime": {
     "end_time": "2023-11-13T01:14:25.291618900Z",
     "start_time": "2023-11-13T01:14:25.285608900Z"
    }
   }
  },
  {
   "cell_type": "code",
   "execution_count": 67,
   "outputs": [
    {
     "name": "stdout",
     "output_type": "stream",
     "text": [
      "____________________________________\n",
      "Depth for an input of size 1\n",
      "identity: 35\n",
      "square: 35\n",
      "____________________________________\n",
      "Depth for an input of size 2\n",
      "identity: 77\n",
      "square: 159\n",
      "____________________________________\n",
      "Depth for an input of size 3\n",
      "identity: 129\n",
      "square: 423\n",
      "____________________________________\n",
      "Depth for an input of size 4\n",
      "identity: 191\n",
      "square: 877\n",
      "____________________________________\n",
      "Depth for an input of size 5\n",
      "identity: 263\n",
      "square: 1511\n",
      "____________________________________\n",
      "Depth for an input of size 6\n",
      "identity: 345\n",
      "square: 2305\n",
      "____________________________________\n",
      "Depth for an input of size 7\n",
      "identity: 431\n",
      "square: 2967\n",
      "____________________________________\n",
      "Depth for an input of size 8\n",
      "identity: 517\n",
      "square: 3957\n",
      "____________________________________\n",
      "Depth for an input of size 9\n",
      "identity: 599\n",
      "square: 5007\n",
      "____________________________________\n",
      "Depth for an input of size 10\n",
      "identity: 681\n",
      "square: 6295\n",
      "____________________________________\n",
      "Depth for an input of size 11\n",
      "identity: 763\n",
      "square: 7723\n",
      "____________________________________\n",
      "Depth for an input of size 12\n",
      "identity: 845\n",
      "square: 9291\n",
      "____________________________________\n"
     ]
    }
   ],
   "source": [
    "getDepths(pi/128)\n",
    "# Test a sample input (3x3)\n",
    "#qc = createAQAMCircuit(\"111\", \"111\", pi/128)\n",
    "#Draw Circuit\n",
    "#qc.draw(output=\"mpl\")\n",
    "# print(qc.decompose().decompose().decompose().depth())\n",
    "# = runNoisy(qc)"
   ],
   "metadata": {
    "collapsed": false,
    "ExecuteTime": {
     "end_time": "2023-11-13T01:25:16.732913900Z",
     "start_time": "2023-11-13T01:24:53.834211600Z"
    }
   }
  },
  {
   "cell_type": "code",
   "execution_count": null,
   "outputs": [],
   "source": [],
   "metadata": {
    "collapsed": false
   }
  }
 ],
 "metadata": {
  "kernelspec": {
   "display_name": "Python 3 (ipykernel)",
   "language": "python",
   "name": "python3"
  },
  "language_info": {
   "codemirror_mode": {
    "name": "ipython",
    "version": 3
   },
   "file_extension": ".py",
   "mimetype": "text/x-python",
   "name": "python",
   "nbconvert_exporter": "python",
   "pygments_lexer": "ipython3",
   "version": "3.11.1"
  }
 },
 "nbformat": 4,
 "nbformat_minor": 1
}
